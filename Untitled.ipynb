{
 "cells": [
  {
   "cell_type": "code",
   "execution_count": 52,
   "metadata": {},
   "outputs": [],
   "source": [
    "class Vehicle:\n",
    "    def __init__(self, name = \"\", model = \"Toyota\", color = \"\", value = 10000):\n",
    "        self.name = name;\n",
    "        self.model = model;\n",
    "        self.color = color;\n",
    "        self.value = value;\n",
    "    \n",
    "    def describe(self):\n",
    "        print(\"The name of this car is %s, its model is %s, the color is %s, and it's worth %d\" %(self.name, self.model, self.color\n",
    "             , self.value))\n",
    "    "
   ]
  },
  {
   "cell_type": "code",
   "execution_count": 72,
   "metadata": {},
   "outputs": [
    {
     "name": "stdout",
     "output_type": "stream",
     "text": [
      "The number is 18\n"
     ]
    }
   ],
   "source": [
    "import random\n",
    "def generator():\n",
    "    yield random.randint(1, 40)\n",
    "    \n",
    "for num in generator():\n",
    "    print(\"The number is %d\" %num)"
   ]
  },
  {
   "cell_type": "code",
   "execution_count": 76,
   "metadata": {},
   "outputs": [],
   "source": [
    "sentence = \"the quick brown fox jumps over the lazy dog\"\n",
    "word_length = [len(word) for word in sentence.split() if word != \"the\"]"
   ]
  },
  {
   "cell_type": "code",
   "execution_count": 79,
   "metadata": {},
   "outputs": [
    {
     "data": {
      "text/plain": [
       "(29, [5, 5, 3, 5, 4, 4, 3])"
      ]
     },
     "execution_count": 79,
     "metadata": {},
     "output_type": "execute_result"
    }
   ],
   "source": [
    "sum(word_length), word_length"
   ]
  },
  {
   "cell_type": "code",
   "execution_count": 97,
   "metadata": {},
   "outputs": [],
   "source": [
    "def foo(a, b, c, *args, **options):\n",
    "    print(len(list(args)))\n",
    "    if options.get(\"magicNum\") == 8:\n",
    "        print(\"66666666\")"
   ]
  },
  {
   "cell_type": "code",
   "execution_count": 98,
   "metadata": {},
   "outputs": [
    {
     "name": "stdout",
     "output_type": "stream",
     "text": [
      "0\n",
      "66666666\n"
     ]
    }
   ],
   "source": [
    "foo(1, 2, 3, magicNum = 8)"
   ]
  }
 ],
 "metadata": {
  "kernelspec": {
   "display_name": "Python 3",
   "language": "python",
   "name": "python3"
  },
  "language_info": {
   "codemirror_mode": {
    "name": "ipython",
    "version": 3
   },
   "file_extension": ".py",
   "mimetype": "text/x-python",
   "name": "python",
   "nbconvert_exporter": "python",
   "pygments_lexer": "ipython3",
   "version": "3.6.4"
  }
 },
 "nbformat": 4,
 "nbformat_minor": 2
}
